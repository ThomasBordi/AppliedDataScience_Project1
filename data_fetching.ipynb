{
 "cells": [
  {
   "cell_type": "code",
   "execution_count": 1,
   "metadata": {},
   "outputs": [
    {
     "name": "stdout",
     "output_type": "stream",
     "text": [
      "   Post_ID                                              Title  \\\n",
      "0  1gqafju  Bitcoin has followed a consistent 4-year cycle...   \n",
      "1  1ik2qgu  Explaining Bitcoin 12 Years Ago When It Was Wo...   \n",
      "2  1h6yoqp  On February 9th 2011 Bitcoin first touched $1....   \n",
      "3  1hbsf6a  This Anonymous guy received $50 worth of Bitco...   \n",
      "4  1gs7eb9  Satoshi Era Bitcoin Whale moved 2,000 BTC for ...   \n",
      "\n",
      "                        Content  Upvotes  Comments  \\\n",
      "0                                   3584       700   \n",
      "1                                   8422       293   \n",
      "2                                   7826       495   \n",
      "3  Imagine hodling for 13 Years     7415       452   \n",
      "4                                   5947       608   \n",
      "\n",
      "                                    URL     Timestamp  \n",
      "0  https://i.redd.it/95px1ns8in0e1.jpeg  1.731496e+09  \n",
      "1   https://i.redd.it/hd0ul5cglrhe1.png  1.738955e+09  \n",
      "2   https://i.redd.it/m7ll0go40y4e1.png  1.733366e+09  \n",
      "3  https://i.redd.it/ogcetnacr76e1.jpeg  1.733920e+09  \n",
      "4  https://i.redd.it/foyzxsppw41e1.jpeg  1.731707e+09  \n"
     ]
    }
   ],
   "source": [
    "import praw\n",
    "import pandas as pd\n",
    "\n",
    "# Reddit API Credentials\n",
    "reddit = praw.Reddit(\n",
    "    client_id=\"_9aT35rxVcBiNC17_Al5_g\",\n",
    "    client_secret=\"tyas9JGsMfhm4Jhifg86JnvpHZHx6A\",\n",
    "    user_agent=\"CryptoSentimentApp\"\n",
    ")\n",
    "\n",
    "def fetch_reddit_posts(coin, num_posts):\n",
    "    \"\"\"\n",
    "    Fetches Reddit posts related to a cryptocurrency and returns data in a Pandas DataFrame.\n",
    "    \n",
    "    Parameters:\n",
    "    - coin (str): The cryptocurrency to search for.\n",
    "    - num_posts (int): Number of posts to retrieve.\n",
    "\n",
    "    Returns:\n",
    "    - pd.DataFrame: DataFrame containing post details.\n",
    "    \"\"\"\n",
    "    subreddit = reddit.subreddit(\"cryptocurrency\")\n",
    "    query = coin.lower()  # Convert to lowercase for better matching\n",
    "    \n",
    "    # Fetch posts containing the coin name\n",
    "    posts_data = []\n",
    "    for post in subreddit.search(query, limit=num_posts):\n",
    "        posts_data.append([\n",
    "            post.id,\n",
    "            post.title,\n",
    "            post.selftext,  # Post content\n",
    "            post.score,  # Upvotes\n",
    "            post.num_comments,  # Number of comments\n",
    "            post.url,  # Post link\n",
    "            post.created_utc  # Timestamp\n",
    "        ])\n",
    "\n",
    "    # Convert to Pandas DataFrame\n",
    "    df = pd.DataFrame(posts_data, columns=[\"Post_ID\", \"Title\", \"Content\", \"Upvotes\", \"Comments\", \"URL\", \"Timestamp\"])\n",
    "    return df\n",
    "\n",
    "# Example usage: Fetch 10 Bitcoin-related posts\n",
    "df_bitcoin_100 = fetch_reddit_posts(\"Bitcoin\", 100)\n",
    "print(df_bitcoin_100.head())\n",
    "df_bitcoin_100.to_csv('csv_bitcoin_100.csv')\n"
   ]
  },
  {
   "cell_type": "code",
   "execution_count": null,
   "metadata": {},
   "outputs": [],
   "source": []
  }
 ],
 "metadata": {
  "kernelspec": {
   "display_name": "tf_env",
   "language": "python",
   "name": "python3"
  },
  "language_info": {
   "codemirror_mode": {
    "name": "ipython",
    "version": 3
   },
   "file_extension": ".py",
   "mimetype": "text/x-python",
   "name": "python",
   "nbconvert_exporter": "python",
   "pygments_lexer": "ipython3",
   "version": "3.9.20"
  }
 },
 "nbformat": 4,
 "nbformat_minor": 2
}
